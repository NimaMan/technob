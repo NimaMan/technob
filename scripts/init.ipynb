{
 "cells": [
  {
   "cell_type": "code",
   "execution_count": 1,
   "metadata": {},
   "outputs": [],
   "source": [
    "\n",
    "carlotte = \"1-ZU3bCEGqQ\""
   ]
  },
  {
   "attachments": {},
   "cell_type": "markdown",
   "metadata": {},
   "source": [
    "# Getting Started\n",
    "This notebook will help to get stated with techno production. Our first steps are to follow the 8 steps in the polymath module. \n",
    "\n",
    "The current steps in the polymath module are:\n",
    "    - Segmenting the audio file \n",
    "    - Getting average pitch and loudness\n",
    "    - getting song duration \n",
    "    - Sample separation \n",
    "    - Beat tracking \n",
    "    - feature extraction\n",
    "    - Feature aggregation \n",
    "    - Split Stems \n",
    "\n",
    "Here we will go through each step and explain what is happening."
   ]
  },
  {
   "attachments": {},
   "cell_type": "markdown",
   "metadata": {},
   "source": [
    "## Step 1: Segmenting the audio file\n",
    "```python \n",
    "def get_segments(audio_file):\n",
    "    from sf_segmenter.segmenter import Segmenter\n",
    "    segmenter = Segmenter()\n",
    "    boundaries, labs = segmenter.proc_audio(audio_file)\n",
    "    return boundaries,labs \n",
    "```\n"
   ]
  },
  {
   "cell_type": "code",
   "execution_count": 2,
   "metadata": {},
   "outputs": [],
   "source": [
    "import librosa\n",
    "import numpy as np\n",
    "\n",
    "# load audio file from the paranet directory of the current directory in polymath library folder\n",
    "audio_file = \"../polymath/library/1-ZU3bCEGqQ.wav\"\n",
    "audio, sr = librosa.load(audio_file)\n",
    "\n"
   ]
  },
  {
   "cell_type": "code",
   "execution_count": 3,
   "metadata": {},
   "outputs": [
    {
     "name": "stdout",
     "output_type": "stream",
     "text": [
      " > 0\n",
      " > 1\n",
      " > 2\n",
      " > 3\n",
      " > 4\n",
      " > 5\n",
      " > 6\n",
      " > 7\n",
      " > 8\n",
      " > 9\n",
      " > 10\n",
      " > 11\n",
      " > 12\n",
      " > 13\n",
      " > 14\n",
      " > 15\n",
      " > 16\n",
      " > 17\n",
      " > 18\n",
      " > 19\n",
      " > 20\n",
      " > 21\n",
      " > 22\n",
      " > 23\n",
      " > 24\n",
      " > 25\n",
      " > 26\n",
      " > 27\n",
      " > 28\n",
      " > 29\n",
      " > 30\n",
      " > 31\n",
      " > 32\n",
      " > 33\n",
      " > 34\n",
      " > 35\n",
      " > 36\n",
      " > 37\n",
      " > 38\n"
     ]
    }
   ],
   "source": [
    "def get_segments(audio_file):\n",
    "    from sf_segmenter.segmenter import Segmenter\n",
    "    segmenter = Segmenter()\n",
    "    boundaries, labs = segmenter.proc_audio(audio_file)\n",
    "    return boundaries,labs \n",
    "\n",
    "segments_boundaries,segments_labels = get_segments(audio_file)\n"
   ]
  },
  {
   "cell_type": "code",
   "execution_count": 4,
   "metadata": {},
   "outputs": [
    {
     "data": {
      "text/plain": [
       "array([   0,   20,   55,   83,  373,  405,  520,  626,  664,  838,  892,\n",
       "        945,  998, 1103, 1158, 1220, 1249, 1370, 1429, 1539, 1640, 1814,\n",
       "       1857, 1903, 1956, 2011, 2170, 2231, 2265, 2386, 2438, 2471, 2598,\n",
       "       2651, 2679, 2808, 2846, 2880, 3077, 3115])"
      ]
     },
     "execution_count": 4,
     "metadata": {},
     "output_type": "execute_result"
    }
   ],
   "source": [
    "segments_boundaries"
   ]
  },
  {
   "cell_type": "code",
   "execution_count": 5,
   "metadata": {},
   "outputs": [
    {
     "data": {
      "text/plain": [
       "array([0., 1., 1., 1., 1., 1., 1., 2., 2., 1., 1., 1., 1., 1., 1., 3., 1.,\n",
       "       1., 2., 2., 2., 2., 1., 1., 1., 1., 1., 4., 1., 1., 5., 1., 1., 1.,\n",
       "       1., 1., 6., 1., 7.])"
      ]
     },
     "execution_count": 5,
     "metadata": {},
     "output_type": "execute_result"
    }
   ],
   "source": [
    "segments_labels\n"
   ]
  },
  {
   "cell_type": "code",
   "execution_count": null,
   "metadata": {},
   "outputs": [],
   "source": []
  },
  {
   "attachments": {},
   "cell_type": "markdown",
   "metadata": {},
   "source": [
    "## Pitch Tracking\n",
    "Getting average pitch and loudness\n",
    "\n",
    "Here we first need to figure out what is the pitch of a song. We do use a Neural network called crepe to do this. We will use the crepe module to do this. \n",
    "\n"
   ]
  },
  {
   "attachments": {},
   "cell_type": "markdown",
   "metadata": {},
   "source": [
    "```python\n",
    "def get_pitch_dnn(audio_file):\n",
    "    # DNN Pitch Detection\n",
    "    pitch = []\n",
    "    audio, sr = librosa.load(audio_file)\n",
    "    time, frequency, confidence, activation = crepe.predict(audio, sr, model_capacity=\"tiny\", viterbi=True, center=True, step_size=10, verbose=1) # tiny|small|medium|large|full\n",
    "    i = 0\n",
    "    while i < len(time):\n",
    "        pitch.append([time[i],frequency[i],confidence[i]])\n",
    "        i += 1\n",
    "    return pitch\n",
    "```\n",
    "\n",
    "    "
   ]
  },
  {
   "cell_type": "code",
   "execution_count": 4,
   "metadata": {},
   "outputs": [
    {
     "ename": "",
     "evalue": "",
     "output_type": "error",
     "traceback": [
      "\u001b[1;31mCanceled future for execute_request message before replies were done"
     ]
    },
    {
     "ename": "",
     "evalue": "",
     "output_type": "error",
     "traceback": [
      "\u001b[1;31mThe Kernel crashed while executing code in the the current cell or a previous cell. Please review the code in the cell(s) to identify a possible cause of the failure. Click <a href='https://aka.ms/vscodeJupyterKernelCrash'>here</a> for more info. View Jupyter <a href='command:jupyter.viewOutput'>log</a> for further details."
     ]
    }
   ],
   "source": [
    "import crepe\n",
    "\n",
    "def get_pitch_dnn(audio_file):\n",
    "    # DNN Pitch Detection\n",
    "    pitch = []\n",
    "    audio, sr = librosa.load(audio_file)\n",
    "    time, frequency, confidence, activation = crepe.predict(audio, sr, model_capacity=\"tiny\", viterbi=True, center=True, step_size=10, verbose=1) # tiny|small|medium|large|full\n",
    "    i = 0\n",
    "    while i < len(time):\n",
    "        pitch.append([time[i],frequency[i],confidence[i]])\n",
    "        i += 1\n",
    "    return pitch\n",
    "\n",
    "frequency_frames = get_pitch_dnn(audio_file)\n",
    "\n"
   ]
  },
  {
   "cell_type": "code",
   "execution_count": null,
   "metadata": {},
   "outputs": [],
   "source": [
    "average_frequency,average_key = get_average_pitch(frequency_frames)"
   ]
  },
  {
   "cell_type": "code",
   "execution_count": 6,
   "metadata": {},
   "outputs": [
    {
     "ename": "IndexError",
     "evalue": "invalid index to scalar variable.",
     "output_type": "error",
     "traceback": [
      "\u001b[0;31m---------------------------------------------------------------------------\u001b[0m",
      "\u001b[0;31mIndexError\u001b[0m                                Traceback (most recent call last)",
      "Cell \u001b[0;32mIn[6], line 14\u001b[0m\n\u001b[1;32m     11\u001b[0m         i \u001b[39m+\u001b[39m\u001b[39m=\u001b[39m \u001b[39m1\u001b[39m\n\u001b[1;32m     12\u001b[0m     \u001b[39mreturn\u001b[39;00m quantized_audio\n\u001b[0;32m---> 14\u001b[0m quantized_audio \u001b[39m=\u001b[39m quantize_audio(audio_file,segments_boundaries,segments_labels)\n\u001b[1;32m     16\u001b[0m \u001b[39m# play quantized audio\u001b[39;00m\n\u001b[1;32m     17\u001b[0m \u001b[39mfrom\u001b[39;00m \u001b[39mIPython\u001b[39;00m\u001b[39m.\u001b[39;00m\u001b[39mdisplay\u001b[39;00m \u001b[39mimport\u001b[39;00m Audio\n",
      "Cell \u001b[0;32mIn[6], line 7\u001b[0m, in \u001b[0;36mquantize_audio\u001b[0;34m(audio_file, segments_boundaries, segments_labels)\u001b[0m\n\u001b[1;32m      5\u001b[0m i \u001b[39m=\u001b[39m \u001b[39m0\u001b[39m\n\u001b[1;32m      6\u001b[0m \u001b[39mwhile\u001b[39;00m i \u001b[39m<\u001b[39m \u001b[39mlen\u001b[39m(segments_boundaries):\n\u001b[0;32m----> 7\u001b[0m     start \u001b[39m=\u001b[39m \u001b[39mint\u001b[39m(segments_boundaries[i][\u001b[39m0\u001b[39;49m]\u001b[39m*\u001b[39msr)\n\u001b[1;32m      8\u001b[0m     end \u001b[39m=\u001b[39m \u001b[39mint\u001b[39m(segments_boundaries[i][\u001b[39m1\u001b[39m]\u001b[39m*\u001b[39msr)\n\u001b[1;32m      9\u001b[0m     segment \u001b[39m=\u001b[39m audio[start:end]\n",
      "\u001b[0;31mIndexError\u001b[0m: invalid index to scalar variable."
     ]
    }
   ],
   "source": []
  },
  {
   "cell_type": "code",
   "execution_count": 7,
   "metadata": {},
   "outputs": [
    {
     "data": {
      "text/plain": [
       "array([   0,   20,   55,   83,  373,  405,  520,  626,  664,  838,  892,\n",
       "        945,  998, 1103, 1158, 1220, 1249, 1370, 1429, 1539, 1640, 1814,\n",
       "       1857, 1903, 1956, 2011, 2170, 2231, 2265, 2386, 2438, 2471, 2598,\n",
       "       2651, 2679, 2808, 2846, 2880, 3077, 3115])"
      ]
     },
     "execution_count": 7,
     "metadata": {},
     "output_type": "execute_result"
    }
   ],
   "source": [
    "segments_boundaries"
   ]
  },
  {
   "cell_type": "code",
   "execution_count": null,
   "metadata": {},
   "outputs": [],
   "source": []
  },
  {
   "cell_type": "code",
   "execution_count": 9,
   "metadata": {},
   "outputs": [
    {
     "data": {
      "text/plain": [
       "22050"
      ]
     },
     "execution_count": 9,
     "metadata": {},
     "output_type": "execute_result"
    }
   ],
   "source": [
    "sr"
   ]
  },
  {
   "cell_type": "code",
   "execution_count": 32,
   "metadata": {},
   "outputs": [
    {
     "data": {
      "text/html": [
       "\n",
       "                <audio  controls=\"controls\" >\n",
       "                    <source src=\"data:audio/x-wav;base64,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\" type=\"audio/x-wav\" />\n",
       "                    Your browser does not support the audio element.\n",
       "                </audio>\n",
       "              "
      ],
      "text/plain": [
       "<IPython.lib.display.Audio object>"
      ]
     },
     "execution_count": 32,
     "metadata": {},
     "output_type": "execute_result"
    }
   ],
   "source": [
    "import soundfile as sf\n",
    "import IPython.display\n",
    "\n",
    "# generate a default beat of length 10 seconds at 22050 Hz sampling rate \n",
    "beat = librosa.clicks(frames=np.arange(0, 1000), sr=100000, length=1000)\n",
    "\n",
    "# save the beat to a file\n",
    "sf.write('beat.wav', beat, sr)\n",
    "\n",
    "# play the beat\n",
    "IPython.display.Audio('beat.wav')"
   ]
  },
  {
   "cell_type": "code",
   "execution_count": 15,
   "metadata": {},
   "outputs": [
    {
     "data": {
      "text/plain": [
       "'0.9.2'"
      ]
     },
     "execution_count": 15,
     "metadata": {},
     "output_type": "execute_result"
    }
   ],
   "source": [
    "librosa.__version__"
   ]
  },
  {
   "cell_type": "code",
   "execution_count": null,
   "metadata": {},
   "outputs": [],
   "source": []
  },
  {
   "cell_type": "code",
   "execution_count": 3,
   "metadata": {},
   "outputs": [],
   "source": [
    "import numpy as np\n",
    "import matplotlib.pyplot as plt\n",
    "\n"
   ]
  }
 ],
 "metadata": {
  "kernelspec": {
   "display_name": "q",
   "language": "python",
   "name": "python3"
  },
  "language_info": {
   "codemirror_mode": {
    "name": "ipython",
    "version": 3
   },
   "file_extension": ".py",
   "mimetype": "text/x-python",
   "name": "python",
   "nbconvert_exporter": "python",
   "pygments_lexer": "ipython3",
   "version": "3.9.16"
  },
  "orig_nbformat": 4,
  "vscode": {
   "interpreter": {
    "hash": "05e50049e3eb32775174019135b7208a0d3852fb22829b3658213f387a3fdcbe"
   }
  }
 },
 "nbformat": 4,
 "nbformat_minor": 2
}
