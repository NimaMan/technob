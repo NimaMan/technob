{
 "cells": [
  {
   "cell_type": "code",
   "execution_count": 1,
   "metadata": {},
   "outputs": [],
   "source": [
    "import os\n",
    "import pandas as pd\n",
    "import statistics\n",
    "\n",
    "import IPython\n",
    "import gradio\n",
    "import glob\n",
    "\n",
    "from sklearn.metrics import accuracy_score"
   ]
  },
  {
   "cell_type": "code",
   "execution_count": 2,
   "metadata": {},
   "outputs": [],
   "source": [
    "audio_path = \"/Users/nimamanaf/Library/CloudStorage/GoogleDrive-ndizbin14@ku.edu.tr/My Drive/Techno/technob/docs/examples/cse.WAV\"\n"
   ]
  },
  {
   "cell_type": "code",
   "execution_count": 3,
   "metadata": {},
   "outputs": [
    {
     "name": "stderr",
     "output_type": "stream",
     "text": [
      "Using cache found in /Users/nimamanaf/.cache/torch/hub/harritaylor_torchvggish_master\n"
     ]
    },
    {
     "ename": "",
     "evalue": "",
     "output_type": "error",
     "traceback": [
      "\u001b[1;31mCannot execute code, session has been disposed. Please try restarting the Kernel."
     ]
    },
    {
     "ename": "",
     "evalue": "",
     "output_type": "error",
     "traceback": [
      "\u001b[1;31mThe Kernel crashed while executing code in the the current cell or a previous cell. Please review the code in the cell(s) to identify a possible cause of the failure. Click <a href='https://aka.ms/vscodeJupyterKernelCrash'>here</a> for more info. View Jupyter <a href='command:jupyter.viewOutput'>log</a> for further details."
     ]
    }
   ],
   "source": [
    "import torch\n",
    "model = torch.hub.load('harritaylor/torchvggish', 'vggish')"
   ]
  },
  {
   "cell_type": "code",
   "execution_count": null,
   "metadata": {},
   "outputs": [],
   "source": []
  },
  {
   "cell_type": "code",
   "execution_count": 1,
   "metadata": {},
   "outputs": [],
   "source": [
    "from qdrant_client import QdrantClient\n"
   ]
  },
  {
   "cell_type": "code",
   "execution_count": null,
   "metadata": {},
   "outputs": [],
   "source": []
  },
  {
   "cell_type": "code",
   "execution_count": 4,
   "metadata": {},
   "outputs": [],
   "source": [
    "client = QdrantClient(\"http://localhost:6333\") # Connect to existing Qdrant instance, for production"
   ]
  },
  {
   "cell_type": "code",
   "execution_count": 5,
   "metadata": {},
   "outputs": [
    {
     "data": {
      "text/plain": [
       "True"
      ]
     },
     "execution_count": 5,
     "metadata": {},
     "output_type": "execute_result"
    }
   ],
   "source": [
    "from qdrant_client import models\n",
    "client.recreate_collection(\n",
    "  collection_name='startups',\n",
    "  vectors_config=models.VectorParams(size=768, distance=\"Cosine\")\n",
    ")"
   ]
  },
  {
   "cell_type": "code",
   "execution_count": 9,
   "metadata": {},
   "outputs": [],
   "source": [
    "class NeuralSearcher:\n",
    "\n",
    "    def __init__(self, collection_name):\n",
    "        self.collection_name = collection_name\n",
    "        # Initialize encoder model\n",
    "        self.model = SentenceTransformer('distilbert-base-nli-stsb-mean-tokens', device='cpu')\n",
    "        # initialize Qdrant client\n",
    "        self.qdrant_client = QdrantClient(host='localhost', port=6333)\n",
    "\n",
    "    # The search function looks as simple as possible:\n",
    "\n",
    "    def search(self, text: str):\n",
    "        # Convert text query into vector\n",
    "        vector = self.model.encode(text).tolist()\n",
    "\n",
    "        # Use `vector` for search for closest vectors in the collection\n",
    "        search_result = self.qdrant_client.search(\n",
    "            collection_name=self.collection_name,\n",
    "            query_vector=vector,\n",
    "            query_filter=None,  # We don't want any filters for now\n",
    "            top=5  # 5 the most closest results is enough\n",
    "        )\n",
    "\n",
    "        # `search_result` contains found vector ids with similarity scores along with the stored payload\n",
    "        # In this function we are interested in payload only\n",
    "        payloads = [hit.payload for hit in search_result]\n",
    "        return payloads"
   ]
  },
  {
   "cell_type": "code",
   "execution_count": 14,
   "metadata": {},
   "outputs": [
    {
     "data": {
      "text/plain": [
       "True"
      ]
     },
     "execution_count": 14,
     "metadata": {},
     "output_type": "execute_result"
    }
   ],
   "source": [
    "# Create collection to store books\n",
    "client.recreate_collection(\n",
    "    collection_name=\"my_books\",\n",
    "    vectors_config=models.VectorParams(\n",
    "        size=encoder.get_sentence_embedding_dimension(), # Vector size is defined by used model\n",
    "        distance=models.Distance.COSINE\n",
    "    )\n",
    ")"
   ]
  },
  {
   "cell_type": "code",
   "execution_count": 15,
   "metadata": {},
   "outputs": [],
   "source": [
    "# Let's vectorize descriptions and upload to qdrant\n",
    "\n",
    "qdrant.upload_records(\n",
    "    collection_name=\"my_books\",\n",
    "    records=[\n",
    "        models.Record(\n",
    "            id=idx,\n",
    "            vector=encoder.encode(doc[\"description\"]).tolist(),\n",
    "            payload=doc\n",
    "        ) for idx, doc in enumerate(documents)\n",
    "    ]\n",
    ")"
   ]
  },
  {
   "cell_type": "code",
   "execution_count": 18,
   "metadata": {},
   "outputs": [
    {
     "name": "stdout",
     "output_type": "stream",
     "text": [
      "{'description': 'Zoom is a video conferencing software that helps users hold online meetings, training sessions, and webinars.', 'name': 'Zoom'} score: 0.12417556\n",
      "{'description': 'Uber develops, markets, and operates a ride-sharing mobile application that allows consumers to submit a trip request.', 'name': 'Uber'} score: 0.11771207\n",
      "{'description': 'Airbnb is an online community marketplace for people to list, discover, and book accommodations.', 'name': 'Airbnb'} score: 0.1114932\n"
     ]
    }
   ],
   "source": [
    "# Let's now search for something\n",
    "\n",
    "hits = qdrant.search(\n",
    "    collection_name=\"my_books\",\n",
    "    query_vector=encoder.encode(\"What are possbile ways to DJ \").tolist(),\n",
    "    limit=3\n",
    ")\n",
    "for hit in hits:\n",
    "  print(hit.payload, \"score:\", hit.score)"
   ]
  },
  {
   "cell_type": "code",
   "execution_count": 14,
   "metadata": {},
   "outputs": [],
   "source": [
    "hits = qdrant.search(\n",
    "    collection_name=\"my_books\",\n",
    "    query_vector=encoder.encode(\"Tyranic society\").tolist(),\n",
    "    query_filter=models.Filter(\n",
    "        must=[\n",
    "            models.FieldCondition(\n",
    "                key=\"year\",\n",
    "                range=models.Range(\n",
    "                    gte=2000\n",
    "                )\n",
    "            )\n",
    "        ]\n",
    "    ),\n",
    "    limit=3\n",
    ")\n",
    "for hit in hits:\n",
    "  print(hit.payload, \"score:\", hit.score)"
   ]
  },
  {
   "cell_type": "code",
   "execution_count": null,
   "metadata": {},
   "outputs": [],
   "source": []
  }
 ],
 "metadata": {
  "kernelspec": {
   "display_name": "q",
   "language": "python",
   "name": "python3"
  },
  "language_info": {
   "codemirror_mode": {
    "name": "ipython",
    "version": 3
   },
   "file_extension": ".py",
   "mimetype": "text/x-python",
   "name": "python",
   "nbconvert_exporter": "python",
   "pygments_lexer": "ipython3",
   "version": "3.9.16"
  },
  "orig_nbformat": 4
 },
 "nbformat": 4,
 "nbformat_minor": 2
}
