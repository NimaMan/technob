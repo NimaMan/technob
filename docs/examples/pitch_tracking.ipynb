{
 "cells": [
  {
   "cell_type": "markdown",
   "metadata": {},
   "source": [
    "# Pitch Tracking"
   ]
  },
  {
   "cell_type": "code",
   "execution_count": null,
   "metadata": {},
   "outputs": [],
   "source": [
    "\n",
    "import numpy as np\n",
    "import librosa\n",
    "import librosa.display\n",
    "import matplotlib.pyplot as plt\n"
   ]
  },
  {
   "cell_type": "code",
   "execution_count": null,
   "metadata": {},
   "outputs": [],
   "source": [
    "# load 30 seconds of audio from the middle of the file\n",
    "audio_file = \"cse.wav\"\n",
    "y, sr = librosa.load(audio_file, offset=90.0, duration=30.0)\n"
   ]
  },
  {
   "cell_type": "code",
   "execution_count": null,
   "metadata": {},
   "outputs": [],
   "source": [
    "\n",
    "# Now, let's use the \"librosa\" library to find the magical notes\n",
    "pitches, magnitudes = librosa.piptrack(y=y, sr=sr)\n",
    "\n",
    "# The pitches array contains the magical numbers of the notes over time\n",
    "# We can convert them to frequencies using the formula: frequency = 440 * (2 ** (pitches / 12))\n",
    "frequencies = 440 * (2 ** (pitches / 12))\n",
    "\n",
    "# Let's visualize the magical notes on a piano roll\n",
    "plt.figure(figsize=(12, 4))\n",
    "librosa.display.specshow(frequencies, y_axis='linear', x_axis='time', sr=sr)\n",
    "plt.colorbar(label='Frequency (Hz)')\n",
    "plt.title(\"Magical Notes - Pitch Tracking\")\n",
    "plt.show()\n"
   ]
  },
  {
   "cell_type": "code",
   "execution_count": null,
   "metadata": {},
   "outputs": [],
   "source": []
  },
  {
   "cell_type": "code",
   "execution_count": null,
   "metadata": {},
   "outputs": [],
   "source": []
  },
  {
   "cell_type": "markdown",
   "metadata": {},
   "source": [
    "# Technob"
   ]
  },
  {
   "cell_type": "code",
   "execution_count": null,
   "metadata": {},
   "outputs": [],
   "source": [
    "from ...technob.audio.features.dnn.pitch import *"
   ]
  }
 ],
 "metadata": {
  "kernelspec": {
   "display_name": "q",
   "language": "python",
   "name": "python3"
  },
  "language_info": {
   "codemirror_mode": {
    "name": "ipython",
    "version": 3
   },
   "file_extension": ".py",
   "mimetype": "text/x-python",
   "name": "python",
   "nbconvert_exporter": "python",
   "pygments_lexer": "ipython3",
   "version": "3.9.16"
  },
  "orig_nbformat": 4
 },
 "nbformat": 4,
 "nbformat_minor": 2
}
